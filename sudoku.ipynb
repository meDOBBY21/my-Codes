{
  "nbformat": 4,
  "nbformat_minor": 0,
  "metadata": {
    "colab": {
      "provenance": []
    },
    "kernelspec": {
      "name": "python3",
      "display_name": "Python 3"
    },
    "language_info": {
      "name": "python"
    },
    "accelerator": "TPU"
  },
  "cells": [
    {
      "cell_type": "code",
      "execution_count": null,
      "metadata": {
        "colab": {
          "base_uri": "https://localhost:8080/"
        },
        "id": "Xcgj3nKaXPf8",
        "outputId": "03833609-1311-4427-d472-79caf7b67926"
      },
      "outputs": [
        {
          "output_type": "stream",
          "name": "stdout",
          "text": [
            "2 0 0 3 0 0 0 0 0 8 0 4 0 6 2 0 0 3 0 1 3 8 0 0 2 0 0 0 0 0 0 2 0 3 9 0 5 0 7 0 0 0 6 2 1 0 3 2 0 0 6 0 0 0 0 2 0 0 0 9 1 4 0 6 0 1 2 5 0 8 0 9 0 0 0 0 0 1 0 0 2 \n",
            "[2, 0, 0, 3, 0, 0, 0, 0, 0]\n",
            "[8, 0, 4, 0, 6, 2, 0, 0, 3]\n",
            "[0, 1, 3, 8, 0, 0, 2, 0, 0]\n",
            "[0, 0, 0, 0, 2, 0, 3, 9, 0]\n",
            "[5, 0, 7, 0, 0, 0, 6, 2, 1]\n",
            "[0, 3, 2, 0, 0, 6, 0, 0, 0]\n",
            "[0, 2, 0, 0, 0, 9, 1, 4, 0]\n",
            "[6, 0, 1, 2, 5, 0, 8, 0, 9]\n",
            "[0, 0, 0, 0, 0, 1, 0, 0, 2]\n",
            "-------------------------------------\n",
            "[2, 7, 6, 3, 1, 4, 9, 5, 8]\n",
            "[8, 5, 4, 9, 6, 2, 7, 1, 3]\n",
            "[9, 1, 3, 8, 7, 5, 2, 6, 4]\n",
            "[4, 6, 8, 1, 2, 7, 3, 9, 5]\n",
            "[5, 9, 7, 4, 3, 8, 6, 2, 1]\n",
            "[1, 3, 2, 5, 9, 6, 4, 8, 7]\n",
            "[3, 2, 5, 7, 8, 9, 1, 4, 6]\n",
            "[6, 4, 1, 2, 5, 3, 8, 7, 9]\n",
            "[7, 8, 9, 6, 4, 1, 5, 3, 2]\n",
            "-------------------------------------\n"
          ]
        }
      ],
      "source": [
        "def allowed(board,num,x,y):\n",
        "\tif num in board[x]:\n",
        "\t\treturn False\n",
        "\tfor i in range(9):\n",
        "\t\tif board[i][y]==num:\n",
        "\t\t\treturn False\n",
        "\tfor i in range((x//3)*3,((x//3)*3)+3):\n",
        "\t\tfor j in range((y//3)*3,((y//3)*3)+3):\n",
        "\t\t\tif board[i][j]==num:\n",
        "\t\t\t\treturn False\n",
        "\treturn True\n",
        "\n",
        "\n",
        "board=list(map(int,input().split()))\n",
        "board = [board[i:i+9] for i in range(0, len(board), 9)]\n",
        "for i in board:\n",
        "\tprint(i)\n",
        "# for i in range(9):\n",
        "# \tflag=True\n",
        "# \twhile(flag):\n",
        "# \t\tprint(\"Row {}:\".format(i+1),end=\" \")\n",
        "# \t\trow=input().split()\n",
        "# \t\tif len(row)==9:\n",
        "# \t\t\tflag=False\n",
        "# \tboard.append(row)\n",
        "\n",
        "stack=[]\n",
        "\n",
        "i,j,num=0,0,1\n",
        "\n",
        "while(i<9):\n",
        "\twhile(j<9):\n",
        "\t\tflag=False\n",
        "\t\twhile(num<=9):\n",
        "\t\t\tif board[i][j]!=0:\n",
        "\t\t\t\tflag=True\n",
        "\t\t\t\tbreak\n",
        "\t\t\tif allowed(board,num,i,j):\n",
        "\t\t\t\tboard[i][j]=num\n",
        "\t\t\t\tflag=True\n",
        "\t\t\t\tl=[i,j,num]\n",
        "\t\t\t\tstack.append(l)\n",
        "\t\t\t\tbreak\n",
        "\t\t\tnum+=1\n",
        "\t\tif flag:\n",
        "\t\t\tj+=1\n",
        "\t\t\tnum=0\n",
        "\t\telse:\n",
        "\t\t\tif len(stack)!=0:\n",
        "\t\t\t\ti,j,num=stack.pop()\n",
        "\t\t\t\tboard[i][j]=0\n",
        "\t\t\t\tnum+=1\n",
        "\n",
        "\ti+=1\n",
        "\tj=0\n",
        "\n",
        "print(\"-------------------------------------\")\n",
        "for q in board:\n",
        "\tprint(q)\n",
        "print(\"-------------------------------------\")"
      ]
    }
  ]
}